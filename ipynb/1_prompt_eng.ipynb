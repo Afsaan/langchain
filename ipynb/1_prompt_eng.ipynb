{
 "cells": [
  {
   "cell_type": "code",
   "execution_count": 2,
   "metadata": {},
   "outputs": [],
   "source": [
    "import os\n",
    "from constant import openai_key\n",
    "os.environ[\"OPENAI_API_KEY\"] = openai_key"
   ]
  },
  {
   "cell_type": "code",
   "execution_count": 4,
   "metadata": {},
   "outputs": [],
   "source": [
    "from langchain import PromptTemplate\n",
    "\n",
    "demo_template = \"\"\" i want you to act as a acting financial advisor for people.\n",
    "             in an easy way, explain the basics of {financial_concept}.\"\"\"\n",
    "\n",
    "\n",
    "prompt = PromptTemplate(input_variables = [\"financial_concept\"],\n",
    "               template = demo_template)"
   ]
  },
  {
   "cell_type": "code",
   "execution_count": 5,
   "metadata": {},
   "outputs": [
    {
     "data": {
      "text/plain": [
       "' i want you to act as a acting financial advisor for people.\\n             in an easy way, explain the basics of income tax.'"
      ]
     },
     "execution_count": 5,
     "metadata": {},
     "output_type": "execute_result"
    }
   ],
   "source": [
    "prompt.format(financial_concept = 'income tax')"
   ]
  },
  {
   "cell_type": "code",
   "execution_count": 7,
   "metadata": {},
   "outputs": [
    {
     "name": "stderr",
     "output_type": "stream",
     "text": [
      "/Users/afsankhan/personal_project/langchain/langchain/lib/python3.9/site-packages/langchain_core/_api/deprecation.py:117: LangChainDeprecationWarning: The class `langchain_community.llms.openai.OpenAI` was deprecated in langchain-community 0.0.10 and will be removed in 0.2.0. An updated version of the class exists in the langchain-openai package and should be used instead. To use it run `pip install -U langchain-openai` and import as `from langchain_openai import OpenAI`.\n",
      "  warn_deprecated(\n"
     ]
    }
   ],
   "source": [
    "from langchain.llms import OpenAI\n",
    "from langchain.chains import LLMChain\n",
    "\n",
    "llm = OpenAI(temperature = 0.7)\n",
    "chain1 = LLMChain(llm = llm, prompt = prompt)"
   ]
  },
  {
   "cell_type": "code",
   "execution_count": 9,
   "metadata": {},
   "outputs": [
    {
     "data": {
      "text/plain": [
       "'\\n\\nAs an acting financial advisor, it is important for me to help people understand the basics of income tax. Income tax is a tax that is levied by the government on the income earned by individuals and businesses. This tax is used to fund various government programs and services.\\n\\nThere are three main types of income tax: federal, state, and local. The federal income tax is imposed by the national government and is collected by the Internal Revenue Service (IRS). State income tax is imposed by individual states and is collected by state tax agencies. Local income tax is imposed by certain cities and counties and is collected by local tax authorities.\\n\\nThe amount of income tax you pay depends on your taxable income, which is the total amount of money you earn from various sources, such as your salary, investments, and rental income. Your taxable income is calculated by subtracting any eligible deductions and exemptions from your total income.\\n\\nDeductions are expenses that can be subtracted from your total income, such as mortgage interest, charitable donations, and certain business expenses. These deductions reduce your taxable income, which in turn reduces the amount of tax you owe. Exemptions, on the other hand, are a set amount of income that is not subject to taxation. For example, if you have depend'"
      ]
     },
     "execution_count": 9,
     "metadata": {},
     "output_type": "execute_result"
    }
   ],
   "source": [
    "chain1.run('income tax')"
   ]
  },
  {
   "cell_type": "code",
   "execution_count": 10,
   "metadata": {},
   "outputs": [
    {
     "data": {
      "text/plain": [
       "\"\\n\\nSure, I would be happy to act as your financial advisor and explain the basics of GDP to you. GDP stands for Gross Domestic Product, and it is a measure of the total value of goods and services produced in a country within a certain period of time, typically a year. This includes all goods and services produced by businesses and individuals within the country's borders.\\n\\nGDP is an important economic indicator because it helps us understand the health and growth of a country's economy. When GDP is growing, it means that the economy is expanding and businesses are producing more goods and services. This is generally seen as a positive sign for the economy.\\n\\nThere are three main ways to calculate GDP: the expenditure approach, the income approach, and the production approach. The expenditure approach adds up all the money spent on goods and services by consumers, businesses, and the government. The income approach adds up all the income earned by individuals and businesses in the production of goods and services. The production approach adds up the value of all goods and services produced in the country.\\n\\nGDP is often used to compare the economic performance of different countries. However, it is important to note that GDP alone does not necessarily reflect the well-being of a country's citizens. For example, a country with a high\""
      ]
     },
     "execution_count": 10,
     "metadata": {},
     "output_type": "execute_result"
    }
   ],
   "source": [
    "chain1.run('GDP')"
   ]
  },
  {
   "cell_type": "code",
   "execution_count": 3,
   "metadata": {},
   "outputs": [
    {
     "name": "stdout",
     "output_type": "stream",
     "text": [
      "Collecting PyPDF2\n",
      "  Downloading pypdf2-3.0.1-py3-none-any.whl.metadata (6.8 kB)\n",
      "Requirement already satisfied: typing_extensions>=3.10.0.0 in /Users/afsankhan/personal_project/langchain/langchain/lib/python3.9/site-packages (from PyPDF2) (4.10.0)\n",
      "Downloading pypdf2-3.0.1-py3-none-any.whl (232 kB)\n",
      "\u001b[2K   \u001b[90m━━━━━━━━━━━━━━━━━━━━━━━━━━━━━━━━━━━━━━━━\u001b[0m \u001b[32m232.6/232.6 kB\u001b[0m \u001b[31m3.3 MB/s\u001b[0m eta \u001b[36m0:00:00\u001b[0ma \u001b[36m0:00:01\u001b[0m\n",
      "\u001b[?25hInstalling collected packages: PyPDF2\n",
      "Successfully installed PyPDF2-3.0.1\n"
     ]
    }
   ],
   "source": []
  }
 ],
 "metadata": {
  "kernelspec": {
   "display_name": "Python 3",
   "language": "python",
   "name": "python3"
  },
  "language_info": {
   "codemirror_mode": {
    "name": "ipython",
    "version": 3
   },
   "file_extension": ".py",
   "mimetype": "text/x-python",
   "name": "python",
   "nbconvert_exporter": "python",
   "pygments_lexer": "ipython3",
   "version": "3.9.19"
  }
 },
 "nbformat": 4,
 "nbformat_minor": 2
}
